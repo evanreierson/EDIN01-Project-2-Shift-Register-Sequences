{
 "cells": [
  {
   "cell_type": "code",
   "execution_count": 39,
   "metadata": {
    "collapsed": true
   },
   "outputs": [],
   "source": [
    "from sympy import Poly\n",
    "from sympy.abc import x"
   ]
  },
  {
   "cell_type": "code",
   "execution_count": 40,
   "metadata": {
    "collapsed": true
   },
   "outputs": [],
   "source": [
    "# Lab ex 1\n",
    "px = [\n",
    "Poly(x**23 + x**5 + 1, x, modulus=2),\n",
    "Poly(x**23 + x**6 + 1, x,  modulus=2),\n",
    "Poly(x**18 + x**3 + 1, x, modulus=2),\n",
    "Poly(x**8 + x**6 + 1, x, modulus=7)]"
   ]
  },
  {
   "cell_type": "code",
   "execution_count": 41,
   "metadata": {},
   "outputs": [
    {
     "name": "stdout",
     "output_type": "stream",
     "text": [
      "Poly(x**23 + x**5 + 1, x, modulus=2)  primitive: True  irreducible: True\n",
      "Poly(x**23 + x**6 + 1, x, modulus=2)  primitive: True  irreducible: False\n",
      "Poly(x**18 + x**3 + 1, x, modulus=2)  primitive: True  irreducible: True\n",
      "Poly(x**8 + x**6 + 1, x, modulus=7)   primitive: True  irreducible: False\n"
     ]
    }
   ],
   "source": [
    "for f in px:\n",
    "    p = f.is_primitive\n",
    "    i = f.is_irreducible\n",
    "    print('{:37} primitive: {}  irreducible: {}'.format(str(f), p, i))"
   ]
  }
 ],
 "metadata": {
  "kernelspec": {
   "display_name": "Python 3",
   "language": "python",
   "name": "python3"
  },
  "language_info": {
   "codemirror_mode": {
    "name": "ipython",
    "version": 3
   },
   "file_extension": ".py",
   "mimetype": "text/x-python",
   "name": "python",
   "nbconvert_exporter": "python",
   "pygments_lexer": "ipython3",
   "version": "3.6.1"
  }
 },
 "nbformat": 4,
 "nbformat_minor": 2
}
