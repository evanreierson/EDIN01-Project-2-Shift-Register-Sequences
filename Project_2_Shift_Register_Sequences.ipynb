{
 "cells": [
  {
   "cell_type": "code",
   "execution_count": 193,
   "metadata": {
    "collapsed": true
   },
   "outputs": [],
   "source": [
    "def get_db_seq(register, cd, z):\n",
    "    # stores digits for final debruijn sequence\n",
    "    db_out = []\n",
    "    # add 4-tuples to a set for testing unique\n",
    "    test_set = set()\n",
    "    for i in range(10003):\n",
    "        test_set.add(tuple(register))\n",
    "        \n",
    "        # handle special cases\n",
    "        nonlinear_1 = 0\n",
    "        if(register == [1, 0, 0, 0]):\n",
    "            if(z == 2):\n",
    "                nonlinear_1 = 1\n",
    "            else:\n",
    "                nonlinear_1 = 2\n",
    "        \n",
    "        nonlinear_2 = 0\n",
    "        if (register == [0, 0, 0, 0]):\n",
    "            nonlinear_2 = 3\n",
    "            \n",
    "        # sum linear feedback\n",
    "        feedback = 0\n",
    "        for r, c, in zip(register, cd):\n",
    "            feedback += r * c\n",
    "        \n",
    "        # add nonlinear feedback\n",
    "        feedback += nonlinear_1\n",
    "        feedback += nonlinear_2\n",
    "        \n",
    "        # reduce mod z\n",
    "        feedback = (z - feedback) % z\n",
    "        \n",
    "        # add to debruijn output and update register\n",
    "        db_out.append(register.pop(0))\n",
    "        register.append(feedback)\n",
    "    \n",
    "    return(test_set, db_out)\n",
    "    \n",
    "    "
   ]
  },
  {
   "cell_type": "code",
   "execution_count": 194,
   "metadata": {
    "scrolled": true
   },
   "outputs": [],
   "source": [
    "# compute debruijn sequences for in z2 and z5\n",
    "z2_set, z2_db = get_db_seq([0, 0, 0, 1], [1, 0, 0, 1], 2)\n",
    "z5_set, z5_db = get_db_seq([0, 0, 0, 1], [3, 4, 1, 4], 5)"
   ]
  },
  {
   "cell_type": "code",
   "execution_count": 195,
   "metadata": {},
   "outputs": [],
   "source": [
    "# make sure there are no 4-tuple repeats\n",
    "assert(len(z2_set) == 16)\n",
    "assert(len(z5_set) == 625)"
   ]
  },
  {
   "cell_type": "code",
   "execution_count": 196,
   "metadata": {},
   "outputs": [],
   "source": [
    "# map z2 and z5 to z10\n",
    "db = []\n",
    "for z2, z5 in zip(z2_db, z5_db):\n",
    "    r = 2 * z5 + z2\n",
    "    db.append(r)"
   ]
  },
  {
   "cell_type": "code",
   "execution_count": 197,
   "metadata": {},
   "outputs": [],
   "source": [
    "# make sure mapping maintains db properties\n",
    "i = 0; j = 4\n",
    "s = set()\n",
    "for n in db:\n",
    "    if(j <= 10003):\n",
    "        s.add(tuple(db[i:j]))\n",
    "    i += 1; j += 1\n",
    "assert(len(s) == 10000)"
   ]
  },
  {
   "cell_type": "code",
   "execution_count": 198,
   "metadata": {
    "collapsed": true
   },
   "outputs": [],
   "source": [
    "# write to file\n",
    "with open('out', 'w') as f:\n",
    "    for i in db:\n",
    "        f.write(str(i))"
   ]
  }
 ],
 "metadata": {
  "kernelspec": {
   "display_name": "Python 3",
   "language": "python",
   "name": "python3"
  },
  "language_info": {
   "codemirror_mode": {
    "name": "ipython",
    "version": 3
   },
   "file_extension": ".py",
   "mimetype": "text/x-python",
   "name": "python",
   "nbconvert_exporter": "python",
   "pygments_lexer": "ipython3",
   "version": "3.6.1"
  }
 },
 "nbformat": 4,
 "nbformat_minor": 2
}
